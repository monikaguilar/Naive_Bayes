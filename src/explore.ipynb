{
    "cells": [
        {
            "cell_type": "markdown",
            "metadata": {},
            "source": [
                "# Explore here"
            ]
        },
        {
            "cell_type": "code",
            "execution_count": 13,
            "metadata": {},
            "outputs": [
                {
                    "name": "stdout",
                    "output_type": "stream",
                    "text": [
                        "          package_name                                             review  \\\n",
                        "0  com.facebook.katana   privacy at least put some option appear offli...   \n",
                        "1  com.facebook.katana   messenger issues ever since the last update, ...   \n",
                        "2  com.facebook.katana   profile any time my wife or anybody has more ...   \n",
                        "3  com.facebook.katana   the new features suck for those of us who don...   \n",
                        "4  com.facebook.katana   forced reload on uploading pic on replying co...   \n",
                        "\n",
                        "   polarity  \n",
                        "0         0  \n",
                        "1         0  \n",
                        "2         0  \n",
                        "3         0  \n",
                        "4         0  \n",
                        "<class 'pandas.core.frame.DataFrame'>\n",
                        "RangeIndex: 891 entries, 0 to 890\n",
                        "Data columns (total 3 columns):\n",
                        " #   Column        Non-Null Count  Dtype \n",
                        "---  ------        --------------  ----- \n",
                        " 0   package_name  891 non-null    object\n",
                        " 1   review        891 non-null    object\n",
                        " 2   polarity      891 non-null    int64 \n",
                        "dtypes: int64(1), object(2)\n",
                        "memory usage: 21.0+ KB\n",
                        "None\n",
                        "polarity\n",
                        "0    584\n",
                        "1    307\n",
                        "Name: count, dtype: int64\n"
                    ]
                }
            ],
            "source": [
                "import pandas as pd\n",
                "\n",
                "# Ruta al dataset\n",
                "url = \"https://raw.githubusercontent.com/4GeeksAcademy/naive-bayes-project-tutorial/main/playstore_reviews.csv\"\n",
                "\n",
                "# Cargar datos\n",
                "df = pd.read_csv(url)\n",
                "\n",
                "# Mostrar las primeras filas y un resumen del dataset\n",
                "print(df.head())\n",
                "print(df.info())\n",
                "print(df[\"polarity\"].value_counts())"
            ]
        },
        {
            "cell_type": "markdown",
            "metadata": {},
            "source": [
                "PASO 2: "
            ]
        },
        {
            "cell_type": "code",
            "execution_count": 14,
            "metadata": {},
            "outputs": [],
            "source": [
                "# Eliminar la columna que no necesitamos\n",
                "df = df.drop(columns=[\"package_name\"])\n"
            ]
        },
        {
            "cell_type": "code",
            "execution_count": 15,
            "metadata": {},
            "outputs": [],
            "source": [
                "\n",
                "# Limpiar espacios y pasar a minúsculas\n",
                "df[\"review\"] = df[\"review\"].str.strip().str.lower()\n"
            ]
        },
        {
            "cell_type": "code",
            "execution_count": 16,
            "metadata": {},
            "outputs": [],
            "source": [
                "# Separar variables predictoras y etiqueta\n",
                "X = df[\"review\"]\n",
                "y = df[\"polarity\"]\n"
            ]
        },
        {
            "cell_type": "code",
            "execution_count": 21,
            "metadata": {},
            "outputs": [],
            "source": [
                "# Dividir en train y test\n",
                "from sklearn.model_selection import train_test_split\n",
                "from sklearn.feature_extraction.text import CountVectorizer\n",
                "X_train, X_test, y_train, y_test = train_test_split(X, y, test_size=0.2, random_state=42)\n"
            ]
        },
        {
            "cell_type": "code",
            "execution_count": 22,
            "metadata": {},
            "outputs": [],
            "source": [
                "# Vectorizar el texto\n",
                "vec_model = CountVectorizer(stop_words=\"english\")\n",
                "X_train = vec_model.fit_transform(X_train).toarray()\n",
                "X_test = vec_model.transform(X_test).toarray()"
            ]
        },
        {
            "cell_type": "markdown",
            "metadata": {},
            "source": [
                "PASO 3:"
            ]
        },
        {
            "cell_type": "code",
            "execution_count": 24,
            "metadata": {},
            "outputs": [
                {
                    "name": "stdout",
                    "output_type": "stream",
                    "text": [
                        "MultinomialNB Accuracy: 0.8156424581005587\n",
                        "              precision    recall  f1-score   support\n",
                        "\n",
                        "           0       0.84      0.90      0.87       126\n",
                        "           1       0.73      0.60      0.66        53\n",
                        "\n",
                        "    accuracy                           0.82       179\n",
                        "   macro avg       0.79      0.75      0.77       179\n",
                        "weighted avg       0.81      0.82      0.81       179\n",
                        "\n",
                        "GaussianNB Accuracy: 0.8044692737430168\n",
                        "              precision    recall  f1-score   support\n",
                        "\n",
                        "           0       0.85      0.88      0.86       126\n",
                        "           1       0.69      0.62      0.65        53\n",
                        "\n",
                        "    accuracy                           0.80       179\n",
                        "   macro avg       0.77      0.75      0.76       179\n",
                        "weighted avg       0.80      0.80      0.80       179\n",
                        "\n",
                        "BernoulliNB Accuracy: 0.770949720670391\n",
                        "              precision    recall  f1-score   support\n",
                        "\n",
                        "           0       0.79      0.93      0.85       126\n",
                        "           1       0.70      0.40      0.51        53\n",
                        "\n",
                        "    accuracy                           0.77       179\n",
                        "   macro avg       0.74      0.66      0.68       179\n",
                        "weighted avg       0.76      0.77      0.75       179\n",
                        "\n"
                    ]
                }
            ],
            "source": [
                "from sklearn.naive_bayes import GaussianNB, MultinomialNB, BernoulliNB\n",
                "from sklearn.metrics import accuracy_score, classification_report\n",
                "\n",
                "# MultinomialNB\n",
                "mnb = MultinomialNB()\n",
                "mnb.fit(X_train, y_train)\n",
                "y_pred_mnb = mnb.predict(X_test)\n",
                "print(\"MultinomialNB Accuracy:\", accuracy_score(y_test, y_pred_mnb))\n",
                "print(classification_report(y_test, y_pred_mnb))\n",
                "\n",
                "# GaussianNB\n",
                "gnb = GaussianNB()\n",
                "gnb.fit(X_train, y_train)\n",
                "y_pred_gnb = gnb.predict(X_test)\n",
                "print(\"GaussianNB Accuracy:\", accuracy_score(y_test, y_pred_gnb))\n",
                "print(classification_report(y_test, y_pred_gnb))\n",
                "\n",
                "# BernoulliNB\n",
                "bnb = BernoulliNB()\n",
                "bnb.fit(X_train, y_train)\n",
                "y_pred_bnb = bnb.predict(X_test)\n",
                "print(\"BernoulliNB Accuracy:\", accuracy_score(y_test, y_pred_bnb))\n",
                "print(classification_report(y_test,y_pred_bnb))"
            ]
        },
        {
            "cell_type": "markdown",
            "metadata": {},
            "source": [
                "PASO 4:"
            ]
        },
        {
            "cell_type": "code",
            "execution_count": 25,
            "metadata": {},
            "outputs": [
                {
                    "name": "stdout",
                    "output_type": "stream",
                    "text": [
                        "Random Forest Accuracy: 0.8156424581005587\n",
                        "Confusion Matrix:\n",
                        " [[105  21]\n",
                        " [ 12  41]]\n",
                        "Classification Report:\n",
                        "               precision    recall  f1-score   support\n",
                        "\n",
                        "           0       0.90      0.83      0.86       126\n",
                        "           1       0.66      0.77      0.71        53\n",
                        "\n",
                        "    accuracy                           0.82       179\n",
                        "   macro avg       0.78      0.80      0.79       179\n",
                        "weighted avg       0.83      0.82      0.82       179\n",
                        "\n"
                    ]
                }
            ],
            "source": [
                "from sklearn.ensemble import RandomForestClassifier\n",
                "\n",
                "# Entrenamos un Random Forest con las mismas variables de entrenamiento\n",
                "rf = RandomForestClassifier(\n",
                "    n_estimators=200,  # más árboles para mejor estabilidad\n",
                "    max_depth=None,    # sin límite de profundidad\n",
                "    random_state=42\n",
                ")\n",
                "rf.fit(X_train, y_train)\n",
                "\n",
                "# Predicciones\n",
                "y_pred_rf = rf.predict(X_test)\n",
                "\n",
                "# Métricas\n",
                "from sklearn.metrics import accuracy_score, classification_report, confusion_matrix\n",
                "print(\"Random Forest Accuracy:\", accuracy_score(y_test, y_pred_rf))\n",
                "print(\"Confusion Matrix:\\n\", confusion_matrix(y_test, y_pred_rf))\n",
                "print(\"Classification Report:\\n\", classification_report(y_test, y_pred_rf))"
            ]
        },
        {
            "cell_type": "markdown",
            "metadata": {},
            "source": [
                "PASO 5: "
            ]
        },
        {
            "cell_type": "code",
            "execution_count": 26,
            "metadata": {},
            "outputs": [
                {
                    "name": "stdout",
                    "output_type": "stream",
                    "text": [
                        "Modelo y vectorizador guardados correctamente.\n"
                    ]
                }
            ],
            "source": [
                "import joblib\n",
                "\n",
                "# Guardar el modelo entrenado\n",
                "joblib.dump(mnb, \"modelo_multinomialnb.pkl\")\n",
                "\n",
                "# Guardar también el vectorizador para poder transformar nuevos textos\n",
                "joblib.dump(vec_model, \"vectorizador.pkl\")\n",
                "\n",
                "print(\"Modelo y vectorizador guardados correctamente.\")"
            ]
        },
        {
            "cell_type": "markdown",
            "metadata": {},
            "source": [
                "PASO 6:"
            ]
        },
        {
            "cell_type": "code",
            "execution_count": 27,
            "metadata": {},
            "outputs": [
                {
                    "name": "stdout",
                    "output_type": "stream",
                    "text": [
                        "Accuracy Logistic Regression: 0.8324022346368715\n",
                        "\n",
                        "Reporte de Clasificación:\n",
                        "               precision    recall  f1-score   support\n",
                        "\n",
                        "           0       0.91      0.84      0.88       126\n",
                        "           1       0.68      0.81      0.74        53\n",
                        "\n",
                        "    accuracy                           0.83       179\n",
                        "   macro avg       0.80      0.83      0.81       179\n",
                        "weighted avg       0.85      0.83      0.84       179\n",
                        "\n"
                    ]
                }
            ],
            "source": [
                "from sklearn.linear_model import LogisticRegression\n",
                "from sklearn.metrics import accuracy_score, classification_report\n",
                "\n",
                "# Entrenar modelo de Regresión Logística\n",
                "log_reg = LogisticRegression(max_iter=1000)\n",
                "log_reg.fit(X_train, y_train)\n",
                "\n",
                "# Predicciones\n",
                "y_pred_log = log_reg.predict(X_test)\n",
                "\n",
                "# Resultados\n",
                "print(\"Accuracy Logistic Regression:\", accuracy_score(y_test, y_pred_log))\n",
                "print(\"\\nReporte de Clasificación:\\n\", classification_report(y_test,y_pred_log))"
            ]
        },
        {
            "cell_type": "code",
            "execution_count": 31,
            "metadata": {},
            "outputs": [
                {
                    "name": "stdout",
                    "output_type": "stream",
                    "text": [
                        "Accuracy SVM: 0.8324022346368715\n",
                        "\n",
                        "Reporte de Clasificación:\n",
                        "               precision    recall  f1-score   support\n",
                        "\n",
                        "           0       0.93      0.83      0.87       126\n",
                        "           1       0.67      0.85      0.75        53\n",
                        "\n",
                        "    accuracy                           0.83       179\n",
                        "   macro avg       0.80      0.84      0.81       179\n",
                        "weighted avg       0.85      0.83      0.84       179\n",
                        "\n"
                    ]
                }
            ],
            "source": [
                "from sklearn.svm import SVC\n",
                "from sklearn.metrics import accuracy_score, classification_report\n",
                "\n",
                "# Crear y entrenar el modelo SVM\n",
                "svm_model = SVC(kernel='linear', random_state=42)  # también puedes probar 'rbf' o 'poly'\n",
                "svm_model.fit(X_train, y_train)\n",
                "\n",
                "# Predicciones\n",
                "y_pred_svm = svm_model.predict(X_test)\n",
                "\n",
                "# Resultados\n",
                "print(\"Accuracy SVM:\", accuracy_score(y_test, y_pred_svm))\n",
                "print(\"\\nReporte de Clasificación:\\n\", classification_report(y_test,y_pred_svm))"
            ]
        },
        {
            "cell_type": "markdown",
            "metadata": {},
            "source": [
                "Resultados obtenidos\n",
                "\n",
                "Naive Bayes: Presentó un buen desempeño en términos de precisión y recall, manteniendo un balance entre ambas métricas. Su simplicidad y bajo costo computacional lo hacen eficiente para este tipo de problemas.\n",
                "\n",
                "Random Forest: Ofreció un rendimiento competitivo, especialmente en precisión, pero con un tiempo de entrenamiento mayor. Aunque su capacidad de manejar relaciones no lineales es una ventaja, no superó significativamente a Naive Bayes.\n",
                "\n",
                "SVM: Mostró resultados más bajos en recall comparado con Naive Bayes, lo que significa que fue menos efectivo detectando correctamente los casos positivos. Aunque SVM es robusto para datos complejos, en este conjunto no logró un mejor desempeño.\n",
                "\n",
                "\n",
                "Conclusión\n",
                "\n",
                "El modelo Naive Bayes es el más adecuado para este caso, ya que:\n",
                "\n",
                "Ofrece el mejor equilibrio entre precisión y recall.\n",
                "\n",
                "Tiene una implementación sencilla y rápida.\n",
                "\n",
                "Su rendimiento es consistente frente a los otros modelos evaluados.\n",
                "\n",
                "Random Forest y SVM no mejoraron significativamente los resultados y, en algunos casos, fueron menos efectivos.\n",
                "\n",
                "\n",
                "Decisión final: Se selecciona Naive Bayes como modelo definitivo para este proyecto."
            ]
        },
        {
            "cell_type": "markdown",
            "metadata": {},
            "source": []
        },
        {
            "cell_type": "code",
            "execution_count": null,
            "metadata": {},
            "outputs": [],
            "source": []
        }
    ],
    "metadata": {
        "kernelspec": {
            "display_name": "Python 3",
            "language": "python",
            "name": "python3"
        },
        "language_info": {
            "codemirror_mode": {
                "name": "ipython",
                "version": 3
            },
            "file_extension": ".py",
            "mimetype": "text/x-python",
            "name": "python",
            "nbconvert_exporter": "python",
            "pygments_lexer": "ipython3",
            "version": "3.11.4"
        },
        "orig_nbformat": 4
    },
    "nbformat": 4,
    "nbformat_minor": 2
}
